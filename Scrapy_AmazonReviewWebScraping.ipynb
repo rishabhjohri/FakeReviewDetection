{
  "nbformat": 4,
  "nbformat_minor": 0,
  "metadata": {
    "colab": {
      "name": "Scrapy_AmazonReviewWebScraping.ipynb",
      "provenance": []
    },
    "kernelspec": {
      "name": "python3",
      "display_name": "Python 3"
    }
  },
  "cells": [
    {
      "cell_type": "code",
      "metadata": {
        "id": "mBHUI60pzoz-",
        "colab_type": "code",
        "colab": {
          "base_uri": "https://localhost:8080/",
          "height": 1000
        },
        "outputId": "1de41be7-6a98-42a3-93d7-87c14a0bb90f"
      },
      "source": [
        "!pip install scrapy"
      ],
      "execution_count": 1,
      "outputs": [
        {
          "output_type": "stream",
          "text": [
            "Collecting scrapy\n",
            "\u001b[?25l  Downloading https://files.pythonhosted.org/packages/eb/9f/81a270190802cf02d49a495a2ee9291ea1d21f969a900880285dd7444d74/Scrapy-2.2.1-py2.py3-none-any.whl (241kB)\n",
            "\r\u001b[K     |█▍                              | 10kB 10.0MB/s eta 0:00:01\r\u001b[K     |██▊                             | 20kB 1.8MB/s eta 0:00:01\r\u001b[K     |████                            | 30kB 2.2MB/s eta 0:00:01\r\u001b[K     |█████▍                          | 40kB 2.6MB/s eta 0:00:01\r\u001b[K     |██████▉                         | 51kB 2.0MB/s eta 0:00:01\r\u001b[K     |████████▏                       | 61kB 2.3MB/s eta 0:00:01\r\u001b[K     |█████████▌                      | 71kB 2.5MB/s eta 0:00:01\r\u001b[K     |██████████▉                     | 81kB 2.8MB/s eta 0:00:01\r\u001b[K     |████████████▎                   | 92kB 2.9MB/s eta 0:00:01\r\u001b[K     |█████████████▋                  | 102kB 2.9MB/s eta 0:00:01\r\u001b[K     |███████████████                 | 112kB 2.9MB/s eta 0:00:01\r\u001b[K     |████████████████▎               | 122kB 2.9MB/s eta 0:00:01\r\u001b[K     |█████████████████▋              | 133kB 2.9MB/s eta 0:00:01\r\u001b[K     |███████████████████             | 143kB 2.9MB/s eta 0:00:01\r\u001b[K     |████████████████████▍           | 153kB 2.9MB/s eta 0:00:01\r\u001b[K     |█████████████████████▊          | 163kB 2.9MB/s eta 0:00:01\r\u001b[K     |███████████████████████         | 174kB 2.9MB/s eta 0:00:01\r\u001b[K     |████████████████████████▌       | 184kB 2.9MB/s eta 0:00:01\r\u001b[K     |█████████████████████████▉      | 194kB 2.9MB/s eta 0:00:01\r\u001b[K     |███████████████████████████▏    | 204kB 2.9MB/s eta 0:00:01\r\u001b[K     |████████████████████████████▌   | 215kB 2.9MB/s eta 0:00:01\r\u001b[K     |█████████████████████████████▉  | 225kB 2.9MB/s eta 0:00:01\r\u001b[K     |███████████████████████████████▎| 235kB 2.9MB/s eta 0:00:01\r\u001b[K     |████████████████████████████████| 245kB 2.9MB/s \n",
            "\u001b[?25hRequirement already satisfied: lxml>=3.5.0 in /usr/local/lib/python3.6/dist-packages (from scrapy) (4.2.6)\n",
            "Collecting zope.interface>=4.1.3\n",
            "\u001b[?25l  Downloading https://files.pythonhosted.org/packages/57/33/565274c28a11af60b7cfc0519d46bde4125fcd7d32ebc0a81b480d0e8da6/zope.interface-5.1.0-cp36-cp36m-manylinux2010_x86_64.whl (234kB)\n",
            "\u001b[K     |████████████████████████████████| 235kB 7.8MB/s \n",
            "\u001b[?25hCollecting pyOpenSSL>=16.2.0\n",
            "\u001b[?25l  Downloading https://files.pythonhosted.org/packages/9e/de/f8342b68fa9e981d348039954657bdf681b2ab93de27443be51865ffa310/pyOpenSSL-19.1.0-py2.py3-none-any.whl (53kB)\n",
            "\u001b[K     |████████████████████████████████| 61kB 6.4MB/s \n",
            "\u001b[?25hCollecting w3lib>=1.17.0\n",
            "  Downloading https://files.pythonhosted.org/packages/a3/59/b6b14521090e7f42669cafdb84b0ab89301a42f1f1a82fcf5856661ea3a7/w3lib-1.22.0-py2.py3-none-any.whl\n",
            "Collecting PyDispatcher>=2.0.5\n",
            "  Downloading https://files.pythonhosted.org/packages/cd/37/39aca520918ce1935bea9c356bcbb7ed7e52ad4e31bff9b943dfc8e7115b/PyDispatcher-2.0.5.tar.gz\n",
            "Collecting protego>=0.1.15\n",
            "\u001b[?25l  Downloading https://files.pythonhosted.org/packages/db/6e/bf6d5e4d7cf233b785719aaec2c38f027b9c2ed980a0015ec1a1cced4893/Protego-0.1.16.tar.gz (3.2MB)\n",
            "\u001b[K     |████████████████████████████████| 3.2MB 12.2MB/s \n",
            "\u001b[?25hCollecting cryptography>=2.0\n",
            "\u001b[?25l  Downloading https://files.pythonhosted.org/packages/ba/91/84a29d6a27fd6dfc21f475704c4d2053d58ed7a4033c2b0ce1b4ca4d03d9/cryptography-3.0-cp35-abi3-manylinux2010_x86_64.whl (2.7MB)\n",
            "\u001b[K     |████████████████████████████████| 2.7MB 29.5MB/s \n",
            "\u001b[?25hCollecting queuelib>=1.4.2\n",
            "  Downloading https://files.pythonhosted.org/packages/4c/85/ae64e9145f39dd6d14f8af3fa809a270ef3729f3b90b3c0cf5aa242ab0d4/queuelib-1.5.0-py2.py3-none-any.whl\n",
            "Collecting cssselect>=0.9.1\n",
            "  Downloading https://files.pythonhosted.org/packages/3b/d4/3b5c17f00cce85b9a1e6f91096e1cc8e8ede2e1be8e96b87ce1ed09e92c5/cssselect-1.1.0-py2.py3-none-any.whl\n",
            "Collecting Twisted>=17.9.0\n",
            "\u001b[?25l  Downloading https://files.pythonhosted.org/packages/b7/04/1a664c9e5ec0224a1c1a154ddecaa4dc7b8967521bba225efcc41a03d5f3/Twisted-20.3.0-cp36-cp36m-manylinux1_x86_64.whl (3.1MB)\n",
            "\u001b[K     |████████████████████████████████| 3.1MB 47.5MB/s \n",
            "\u001b[?25hCollecting itemadapter>=0.1.0\n",
            "  Downloading https://files.pythonhosted.org/packages/7d/fb/92f848fcfa85dc9f95370eaecb5c99b5230dd4fc5c6bae684f4ca59df973/itemadapter-0.1.0-py3-none-any.whl\n",
            "Collecting parsel>=1.5.0\n",
            "  Downloading https://files.pythonhosted.org/packages/23/1e/9b39d64cbab79d4362cdd7be7f5e9623d45c4a53b3f7522cd8210df52d8e/parsel-1.6.0-py2.py3-none-any.whl\n",
            "Collecting service-identity>=16.0.0\n",
            "  Downloading https://files.pythonhosted.org/packages/e9/7c/2195b890023e098f9618d43ebc337d83c8b38d414326685339eb024db2f6/service_identity-18.1.0-py2.py3-none-any.whl\n",
            "Requirement already satisfied: setuptools in /usr/local/lib/python3.6/dist-packages (from zope.interface>=4.1.3->scrapy) (49.2.0)\n",
            "Requirement already satisfied: six>=1.5.2 in /usr/local/lib/python3.6/dist-packages (from pyOpenSSL>=16.2.0->scrapy) (1.15.0)\n",
            "Requirement already satisfied: cffi!=1.11.3,>=1.8 in /usr/local/lib/python3.6/dist-packages (from cryptography>=2.0->scrapy) (1.14.1)\n",
            "Collecting PyHamcrest!=1.10.0,>=1.9.0\n",
            "\u001b[?25l  Downloading https://files.pythonhosted.org/packages/40/16/e54cc65891f01cb62893540f44ffd3e8dab0a22443e1b438f1a9f5574bee/PyHamcrest-2.0.2-py3-none-any.whl (52kB)\n",
            "\u001b[K     |████████████████████████████████| 61kB 7.1MB/s \n",
            "\u001b[?25hCollecting incremental>=16.10.1\n",
            "  Downloading https://files.pythonhosted.org/packages/f5/1d/c98a587dc06e107115cf4a58b49de20b19222c83d75335a192052af4c4b7/incremental-17.5.0-py2.py3-none-any.whl\n",
            "Requirement already satisfied: attrs>=19.2.0 in /usr/local/lib/python3.6/dist-packages (from Twisted>=17.9.0->scrapy) (19.3.0)\n",
            "Collecting constantly>=15.1\n",
            "  Downloading https://files.pythonhosted.org/packages/b9/65/48c1909d0c0aeae6c10213340ce682db01b48ea900a7d9fce7a7910ff318/constantly-15.1.0-py2.py3-none-any.whl\n",
            "Collecting hyperlink>=17.1.1\n",
            "  Downloading https://files.pythonhosted.org/packages/7f/91/e916ca10a2de1cb7101a9b24da546fb90ee14629e23160086cf3361c4fb8/hyperlink-19.0.0-py2.py3-none-any.whl\n",
            "Collecting Automat>=0.3.0\n",
            "  Downloading https://files.pythonhosted.org/packages/dd/83/5f6f3c1a562674d65efc320257bdc0873ec53147835aeef7762fe7585273/Automat-20.2.0-py2.py3-none-any.whl\n",
            "Requirement already satisfied: pyasn1 in /usr/local/lib/python3.6/dist-packages (from service-identity>=16.0.0->scrapy) (0.4.8)\n",
            "Requirement already satisfied: pyasn1-modules in /usr/local/lib/python3.6/dist-packages (from service-identity>=16.0.0->scrapy) (0.2.8)\n",
            "Requirement already satisfied: pycparser in /usr/local/lib/python3.6/dist-packages (from cffi!=1.11.3,>=1.8->cryptography>=2.0->scrapy) (2.20)\n",
            "Requirement already satisfied: idna>=2.5 in /usr/local/lib/python3.6/dist-packages (from hyperlink>=17.1.1->Twisted>=17.9.0->scrapy) (2.10)\n",
            "Building wheels for collected packages: PyDispatcher, protego\n",
            "  Building wheel for PyDispatcher (setup.py) ... \u001b[?25l\u001b[?25hdone\n",
            "  Created wheel for PyDispatcher: filename=PyDispatcher-2.0.5-cp36-none-any.whl size=11515 sha256=603ac2a94b149bc016b0290e09f0e742d5213950e73de4b45500c0a948fedb41\n",
            "  Stored in directory: /root/.cache/pip/wheels/88/99/96/cfef6665f9cb1522ee6757ae5955feedf2fe25f1737f91fa7f\n",
            "  Building wheel for protego (setup.py) ... \u001b[?25l\u001b[?25hdone\n",
            "  Created wheel for protego: filename=Protego-0.1.16-cp36-none-any.whl size=7765 sha256=48acdf1300c4aee67f4c0070f29c4c0aef6e3386f352d0be9597fa75ce926484\n",
            "  Stored in directory: /root/.cache/pip/wheels/51/01/d1/4a2286a976dccd025ba679acacfe37320540df0f2283ecab12\n",
            "Successfully built PyDispatcher protego\n",
            "Installing collected packages: zope.interface, cryptography, pyOpenSSL, w3lib, PyDispatcher, protego, queuelib, cssselect, PyHamcrest, incremental, constantly, hyperlink, Automat, Twisted, itemadapter, parsel, service-identity, scrapy\n",
            "Successfully installed Automat-20.2.0 PyDispatcher-2.0.5 PyHamcrest-2.0.2 Twisted-20.3.0 constantly-15.1.0 cryptography-3.0 cssselect-1.1.0 hyperlink-19.0.0 incremental-17.5.0 itemadapter-0.1.0 parsel-1.6.0 protego-0.1.16 pyOpenSSL-19.1.0 queuelib-1.5.0 scrapy-2.2.1 service-identity-18.1.0 w3lib-1.22.0 zope.interface-5.1.0\n"
          ],
          "name": "stdout"
        }
      ]
    },
    {
      "cell_type": "code",
      "metadata": {
        "id": "1CJtzfF10CD_",
        "colab_type": "code",
        "colab": {}
      },
      "source": [
        "# -*- coding: utf-8 -*-\n",
        "\n",
        "import scrapy\n",
        "\n",
        " \n",
        "\n",
        "class ReviewspiderSpider(scrapy.Spider):\n",
        "\n",
        "   name = 'reviewspider'\n",
        "\n",
        "   allowed_domains = ['amazon.com']\n",
        "\n",
        "   start_urls = ['https://www.amazon.com/Apple-iPhone-256GB-Silver-T-Mobile/product-reviews/B07RV52TRF/ref=cm_cr_dp_d_show_all_btm?']\n",
        "\n",
        " \n",
        "   def parse(self, response):\n",
        "\n",
        "       pass"
      ],
      "execution_count": 2,
      "outputs": []
    },
    {
      "cell_type": "code",
      "metadata": {
        "id": "h2z0Hh2y0i11",
        "colab_type": "code",
        "colab": {}
      },
      "source": [
        "def parse(self, response):\n",
        "   star_rating=response.xpath('//span[@class=\"a-icon-alt\"]/text()').extract()\n",
        "\n",
        "   comments=response.xpath('//span[@class=\"a-size-base review-text review-text-content\"]/span/text()').extract()\n",
        "\n",
        "   count = 0\n",
        "\n",
        "   for item in zip(star_rating, comments):\n",
        "\n",
        "       # create a dictionary to store the scraped info\n",
        "\n",
        "       scraped_data = {\n",
        "\n",
        "           'Star Rating': item[0],\n",
        "\n",
        "           'Rating Text': item[1],\n",
        "\n",
        "       }\n",
        "\n",
        " \n",
        "\n",
        "       # yield or give the scraped info to scrapy\n",
        "\n",
        "       yield scraped_data\n"
      ],
      "execution_count": 4,
      "outputs": []
    },
    {
      "cell_type": "code",
      "metadata": {
        "id": "ciVFl0MA09jX",
        "colab_type": "code",
        "colab": {}
      },
      "source": [
        "star_rating=response.xpath('//span[@class=\"a-icon-alt\"]/text()').extract()"
      ],
      "execution_count": 5,
      "outputs": []
    },
    {
      "cell_type": "code",
      "metadata": {
        "id": "dOCPR1uN1Yfs",
        "colab_type": "code",
        "colab": {}
      },
      "source": [
        "for item in zip(star_rating, comments):\n",
        "\n",
        "       # create a dictionary to store the scraped info\n",
        "\n",
        "       scraped_data = {\n",
        "\n",
        "           'Star Rating': item[0],\n",
        "\n",
        "           'Rating Text': item[1],\n",
        "\n",
        "       }"
      ],
      "execution_count": null,
      "outputs": []
    },
    {
      "cell_type": "code",
      "metadata": {
        "id": "GU4p5Jtw1cB2",
        "colab_type": "code",
        "colab": {}
      },
      "source": [
        "yield scraped_data"
      ],
      "execution_count": null,
      "outputs": []
    },
    {
      "cell_type": "code",
      "metadata": {
        "id": "q6S1DvaU1f1o",
        "colab_type": "code",
        "colab": {}
      },
      "source": [
        "<li class=\"a-last\">\n",
        "\n",
        "<a href=\"/Apple-iPhone-256GB-Silver-T-Mobile/product-reviews/B07RV52TRF/ref=cm_cr_arp_d_paging_btm_2?ie=UTF8&amp;pageNumber=2\">\n",
        "\n",
        "Next page<span class=\"a-letter-space\"></span>\n",
        "\n",
        "<span class=\"a-letter-space\"></span>→</a>\n",
        "\n",
        "</li>"
      ],
      "execution_count": null,
      "outputs": []
    },
    {
      "cell_type": "code",
      "metadata": {
        "id": "Pkz2HDhC1uGX",
        "colab_type": "code",
        "colab": {}
      },
      "source": [
        "next_page = response.css('.a-last a ::attr(href)').extract_first()\n",
        "\n",
        "        if next_page:\n",
        "\n",
        "            yield scrapy.Request(\n",
        "\n",
        "                response.urljoin(next_page),\n",
        "\n",
        "                callback=self.parse\n",
        "\n",
        "            )"
      ],
      "execution_count": null,
      "outputs": []
    },
    {
      "cell_type": "code",
      "metadata": {
        "id": "YPZpHTi51xxu",
        "colab_type": "code",
        "colab": {}
      },
      "source": [
        "scrapy runspider scrapy_tutorial/spiders/reviewspider.py -o scraped_data.csv"
      ],
      "execution_count": null,
      "outputs": []
    },
    {
      "cell_type": "code",
      "metadata": {
        "id": "qcFWzXtJ13cN",
        "colab_type": "code",
        "colab": {}
      },
      "source": [
        "FEED_FORMAT=\"csv\"\n",
        "\n",
        "FEED_URI=\"scraped_data.csv\""
      ],
      "execution_count": null,
      "outputs": []
    },
    {
      "cell_type": "code",
      "metadata": {
        "id": "MC0B3Lbx14Na",
        "colab_type": "code",
        "colab": {}
      },
      "source": [
        ""
      ],
      "execution_count": null,
      "outputs": []
    }
  ]
}